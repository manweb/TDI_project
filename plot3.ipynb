{
 "cells": [
  {
   "cell_type": "code",
   "execution_count": 2,
   "metadata": {
    "collapsed": true
   },
   "outputs": [],
   "source": [
    "import numpy as np\n",
    "import pandas as pd\n",
    "import matplotlib.pyplot as plt\n",
    "import matplotlib.colors as cl\n",
    "from matplotlib.colors import LogNorm\n",
    "import time\n",
    "import datetime\n",
    "import re\n",
    "from utilities import CensusTractFinder\n",
    "from utilities import AFFData\n",
    "from utilities import Geometry"
   ]
  },
  {
   "cell_type": "code",
   "execution_count": 3,
   "metadata": {
    "collapsed": true
   },
   "outputs": [],
   "source": [
    "fname = 'Car_Break_Ins_Clean_2.csv'\n",
    "data_poverty = pd.read_csv(fname, quotechar='\"')[['CensusTract','poverty']].dropna().as_matrix().astype(str)"
   ]
  },
  {
   "cell_type": "code",
   "execution_count": 4,
   "metadata": {
    "collapsed": true
   },
   "outputs": [],
   "source": [
    "aff_data = AFFData()"
   ]
  },
  {
   "cell_type": "code",
   "execution_count": 5,
   "metadata": {
    "collapsed": true
   },
   "outputs": [],
   "source": [
    "data_x = []\n",
    "data_y = []\n",
    "data = {}\n",
    "for d in data_poverty:\n",
    "    census_tract = d[0]\n",
    "    if float(d[0]) - np.floor(float(d[0])) == 0:\n",
    "        census_tract = '%.0f'%float(d[0])\n",
    "    \n",
    "    population = aff_data.GetPopulationForCensusTract(census_tract)\n",
    "    \n",
    "    if census_tract in data:\n",
    "        val = data[census_tract]\n",
    "        val[2] += 1\n",
    "        data[census_tract] = val\n",
    "    else:\n",
    "        val = [float(d[1]), population, 1]\n",
    "        data[census_tract] = val\n",
    "    #population = aff_data.GetPopulationForCensusTract(census_tract)\n",
    "    #data_x.append(population)\n",
    "    #data_y.append(float(d[1]))"
   ]
  },
  {
   "cell_type": "code",
   "execution_count": 7,
   "metadata": {},
   "outputs": [
    {
     "data": {
      "image/png": "[encoded data removed]",
      "text/plain": [
       "<matplotlib.figure.Figure at 0x114e87350>"
      ]
     },
     "metadata": {},
     "output_type": "display_data"
    }
   ],
   "source": [
    "plot_x = []\n",
    "plot_y = []\n",
    "for key, val in data.items():\n",
    "    plot_x.append(val[0])\n",
    "    plot_y.append(val[2]/val[1])\n",
    "\n",
    "plt.plot(plot_x, plot_y, marker='o', linestyle='None')\n",
    "\n",
    "plt.xlabel('poverty level (%)')\n",
    "plt.ylabel('break-ins per person')\n",
    "\n",
    "plt.ylim([0,1])\n",
    "\n",
    "plt.show()"
   ]
  },
  {
   "cell_type": "code",
   "execution_count": null,
   "metadata": {
    "collapsed": true
   },
   "outputs": [],
   "source": []
  }
 ],
 "metadata": {
  "kernelspec": {
   "display_name": "Python 2",
   "language": "python",
   "name": "python2"
  },
  "language_info": {
   "codemirror_mode": {
    "name": "ipython",
    "version": 2
   },
   "file_extension": ".py",
   "mimetype": "text/x-python",
   "name": "python",
   "nbconvert_exporter": "python",
   "pygments_lexer": "ipython2",
   "version": "2.7.14"
  }
 },
 "nbformat": 4,
 "nbformat_minor": 2
}
