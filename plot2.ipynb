{
 "cells": [
  {
   "cell_type": "markdown",
   "metadata": {},
   "source": [
    "Plot2: Plots showing the time of break-ins. The time of the day might not represent the actual time when the break-in happened as people only report it later. Clearly there are more break-ins on the weekend while the distribution over the year is fairly flat"
   ]
  },
  {
   "cell_type": "code",
   "execution_count": 30,
   "metadata": {
    "collapsed": true
   },
   "outputs": [],
   "source": [
    "import numpy as np\n",
    "import pandas as pd\n",
    "import matplotlib.pyplot as plt\n",
    "import matplotlib.colors as cl\n",
    "from matplotlib.colors import LogNorm\n",
    "import time\n",
    "import datetime\n",
    "import re\n",
    "from utilities import CensusTractFinder\n",
    "from utilities import AFFData\n",
    "from utilities import Geometry"
   ]
  },
  {
   "cell_type": "code",
   "execution_count": 31,
   "metadata": {
    "collapsed": true
   },
   "outputs": [],
   "source": [
    "fname = 'Car_Break_Ins_Clean.csv'\n",
    "data = pd.read_csv(fname, quotechar='\"')\n",
    "\n",
    "dateformat = '%m/%d/%Y'\n",
    "ref_date = time.mktime(time.strptime('01/01/2018', dateformat))\n",
    "p_date = re.compile('(\\d{2})/(\\d{2})/(\\d{4})')\n",
    "p_time = re.compile('(\\d{2}):(\\d{2})')"
   ]
  },
  {
   "cell_type": "code",
   "execution_count": 32,
   "metadata": {
    "collapsed": true
   },
   "outputs": [],
   "source": [
    "t = []\n",
    "w = []\n",
    "m = []\n",
    "for entry in np.array(data[['Date', 'Time']].as_matrix().astype(str)):\n",
    "    weekday = datetime.datetime.strptime(entry[0], dateformat).weekday()\n",
    "    \n",
    "    date_matches = p_date.match(entry[0])\n",
    "    time_matches = p_time.match(entry[1])\n",
    "    \n",
    "    if int(date_matches.group(1)) == 2 and int(date_matches.group(2)) == 29:\n",
    "        continue\n",
    "    \n",
    "    month = time.mktime(time.strptime('%02i/%02i/2018'%(int(date_matches.group(1)), int(date_matches.group(2))), dateformat))\n",
    "    \n",
    "    time_of_day = (float(time_matches.group(1))*60 + float(time_matches.group(2)))/60\n",
    "    time_of_year = (time_of_day + (month - ref_date)/3600)/24\n",
    "    time_of_week = (time_of_day + weekday*24)/24\n",
    "\n",
    "    t.append(time_of_day)\n",
    "    w.append(weekday)\n",
    "    m.append(time_of_year)"
   ]
  },
  {
   "cell_type": "code",
   "execution_count": 33,
   "metadata": {
    "collapsed": true
   },
   "outputs": [],
   "source": [
    "fig, (ax1,ax2,ax3) = plt.subplots(1,3,figsize=(12,4))"
   ]
  },
  {
   "cell_type": "code",
   "execution_count": 34,
   "metadata": {
    "scrolled": true
   },
   "outputs": [
    {
     "data": {
      "image/png": "[encoded data removed]",
      "text/plain": [
       "<matplotlib.figure.Figure at 0x107c85910>"
      ]
     },
     "metadata": {},
     "output_type": "display_data"
    }
   ],
   "source": [
    "ax1.hist(t, bins=24, facecolor='lightblue', edgecolor='black')\n",
    "ax2.hist(w, bins=7, facecolor='lightblue', edgecolor='black')\n",
    "ax3.hist(m, bins=12, facecolor='lightblue', edgecolor='black')\n",
    "\n",
    "ax1.set_title('time of the day')\n",
    "ax2.set_title('time of the week')\n",
    "ax3.set_title('time of the year')\n",
    "\n",
    "ax1.set_xlabel('hours')\n",
    "ax2.set_xlabel('days')\n",
    "ax3.set_xlabel('days')\n",
    "\n",
    "fig.subplots_adjust(left=0.05, right=0.95, bottom=0.11, top=0.88, wspace=0.25, hspace=0.2)\n",
    "\n",
    "plt.show()"
   ]
  },
  {
   "cell_type": "code",
   "execution_count": null,
   "metadata": {
    "collapsed": true
   },
   "outputs": [],
   "source": []
  }
 ],
 "metadata": {
  "kernelspec": {
   "display_name": "Python 2",
   "language": "python",
   "name": "python2"
  },
  "language_info": {
   "codemirror_mode": {
    "name": "ipython",
    "version": 2
   },
   "file_extension": ".py",
   "mimetype": "text/x-python",
   "name": "python",
   "nbconvert_exporter": "python",
   "pygments_lexer": "ipython2",
   "version": "2.7.14"
  }
 },
 "nbformat": 4,
 "nbformat_minor": 2
}
