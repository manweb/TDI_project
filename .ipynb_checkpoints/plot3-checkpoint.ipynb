{
 "cells": [
  {
   "cell_type": "code",
   "execution_count": 1,
   "metadata": {
    "collapsed": true
   },
   "outputs": [],
   "source": [
    "import numpy as np\n",
    "import pandas as pd\n",
    "import matplotlib.pyplot as plt\n",
    "import matplotlib.colors as cl\n",
    "from matplotlib.colors import LogNorm\n",
    "import time\n",
    "import datetime\n",
    "import re\n",
    "from utilities import CensusTractFinder\n",
    "from utilities import AFFData\n",
    "from utilities import Geometry"
   ]
  },
  {
   "cell_type": "code",
   "execution_count": 2,
   "metadata": {},
   "outputs": [],
   "source": [
    "fname = 'Car_Break_Ins_Clean_2.csv'\n",
    "data_poverty = pd.read_csv(fname, quotechar='\"')[['CensusTract','poverty']].as_matrix().astype(str)"
   ]
  },
  {
   "cell_type": "code",
   "execution_count": 3,
   "metadata": {
    "collapsed": true
   },
   "outputs": [],
   "source": [
    "aff_data = AFFData()"
   ]
  },
  {
   "cell_type": "code",
   "execution_count": 4,
   "metadata": {},
   "outputs": [
    {
     "name": "stdout",
     "output_type": "stream",
     "text": [
      "Problem with census tract nan\n",
      "Problem with census tract nan\n",
      "Problem with census tract nan\n",
      "Problem with census tract nan\n",
      "Problem with census tract nan\n",
      "Problem with census tract nan\n",
      "Problem with census tract nan\n",
      "Problem with census tract nan\n",
      "Problem with census tract nan\n",
      "Problem with census tract nan\n",
      "Problem with census tract nan\n",
      "Problem with census tract nan\n",
      "Problem with census tract nan\n",
      "Problem with census tract nan\n",
      "Problem with census tract nan\n",
      "Problem with census tract nan\n",
      "Problem with census tract nan\n",
      "Problem with census tract nan\n",
      "Problem with census tract nan\n",
      "Problem with census tract nan\n",
      "Problem with census tract nan\n",
      "Problem with census tract nan\n",
      "Problem with census tract nan\n",
      "Problem with census tract nan\n",
      "Problem with census tract nan\n",
      "Problem with census tract nan\n",
      "Problem with census tract nan\n",
      "Problem with census tract nan\n",
      "Problem with census tract nan\n",
      "Problem with census tract nan\n",
      "Problem with census tract nan\n",
      "Problem with census tract nan\n",
      "Problem with census tract nan\n",
      "Problem with census tract nan\n",
      "Problem with census tract nan\n",
      "Problem with census tract nan\n",
      "Problem with census tract nan\n",
      "Problem with census tract nan\n",
      "Problem with census tract nan\n",
      "Problem with census tract nan\n",
      "Problem with census tract nan\n",
      "Problem with census tract nan\n",
      "Problem with census tract nan\n",
      "Problem with census tract nan\n",
      "Problem with census tract nan\n",
      "Problem with census tract nan\n",
      "Problem with census tract nan\n",
      "Problem with census tract nan\n",
      "Problem with census tract nan\n",
      "Problem with census tract nan\n",
      "Problem with census tract nan\n",
      "Problem with census tract nan\n",
      "Problem with census tract nan\n",
      "Problem with census tract nan\n",
      "Problem with census tract nan\n",
      "Problem with census tract nan\n",
      "Problem with census tract nan\n",
      "Problem with census tract nan\n",
      "Problem with census tract nan\n",
      "Problem with census tract nan\n",
      "Problem with census tract nan\n",
      "Problem with census tract nan\n",
      "Problem with census tract nan\n",
      "Problem with census tract nan\n",
      "Problem with census tract nan\n",
      "Problem with census tract nan\n",
      "Problem with census tract nan\n",
      "Problem with census tract nan\n",
      "Problem with census tract nan\n",
      "Problem with census tract nan\n",
      "Problem with census tract nan\n",
      "Problem with census tract nan\n",
      "Problem with census tract nan\n",
      "Problem with census tract nan\n",
      "Problem with census tract nan\n",
      "Problem with census tract nan\n",
      "Problem with census tract nan\n",
      "Problem with census tract nan\n",
      "Problem with census tract nan\n",
      "Problem with census tract nan\n",
      "Problem with census tract nan\n",
      "Problem with census tract nan\n"
     ]
    }
   ],
   "source": [
    "data_x = []\n",
    "data_y = []\n",
    "for d in data_poverty:\n",
    "    census_tract = d[0]\n",
    "    if float(d[0]) - np.floor(float(d[0])) == 0:\n",
    "        census_tract = '%.0f'%float(d[0])\n",
    "    population = aff_data.GetPopulationForCensusTract(census_tract)\n",
    "    if population == 0:\n",
    "        continue\n",
    "    data_x.append(float(d[1])/population)\n",
    "    data_y.append(float(d[1]))"
   ]
  },
  {
   "cell_type": "code",
   "execution_count": 8,
   "metadata": {},
   "outputs": [
    {
     "data": {
      "image/png": "[encoded data removed]",
      "text/plain": [
       "<matplotlib.figure.Figure at 0x115a3aa90>"
      ]
     },
     "metadata": {},
     "output_type": "display_data"
    }
   ],
   "source": [
    "plt.hist(data, bins=100, range=[0,0.02])\n",
    "\n",
    "plt.show()"
   ]
  },
  {
   "cell_type": "code",
   "execution_count": null,
   "metadata": {
    "collapsed": true
   },
   "outputs": [],
   "source": []
  }
 ],
 "metadata": {
  "kernelspec": {
   "display_name": "Python 2",
   "language": "python",
   "name": "python2"
  },
  "language_info": {
   "codemirror_mode": {
    "name": "ipython",
    "version": 2
   },
   "file_extension": ".py",
   "mimetype": "text/x-python",
   "name": "python",
   "nbconvert_exporter": "python",
   "pygments_lexer": "ipython2",
   "version": "2.7.14"
  }
 },
 "nbformat": 4,
 "nbformat_minor": 2
}
